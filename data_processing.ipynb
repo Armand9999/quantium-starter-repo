{
 "cells": [
  {
   "cell_type": "code",
   "id": "initial_id",
   "metadata": {
    "collapsed": true,
    "ExecuteTime": {
     "end_time": "2025-10-07T23:52:28.409414Z",
     "start_time": "2025-10-07T23:52:28.396969Z"
    }
   },
   "source": [
    "from helper_functions import display_csv, get_llm_response\n",
    "import glob\n",
    "import pandas as pd\n",
    "\n",
    "def data_processing(input_pattern=\"data/*.csv\", chunksize=10000, out_paths=\"pink_morsels_sales_data.csv\"):\n",
    "\n",
    "    first_write = True\n",
    "\n",
    "    for file in glob.glob(input_pattern):\n",
    "        print(f\"Processing {file}....\")\n",
    "\n",
    "        for chunk in pd.read_csv(file, chunksize=chunksize):\n",
    "            chunk[\"product\"] = chunk[\"product\"].str.lower()\n",
    "\n",
    "\n",
    "            filtered_chunk = chunk[chunk[\"product\"] == \"pink morsel\"].copy()\n",
    "            if filtered_chunk.empty:\n",
    "                continue\n",
    "\n",
    "            filtered_chunk[\"price\"] = filtered_chunk[\"price\"].str.replace(\"$\", \"\", regex=False).astype(float)\n",
    "            filtered_chunk[\"quantity\"] = filtered_chunk[\"quantity\"].astype(int)\n",
    "            filtered_chunk[\"Sales\"] = filtered_chunk[\"price\"] * filtered_chunk[\"quantity\"]\n",
    "\n",
    "            out = filtered_chunk[[\"Sales\", \"date\", \"region\"]].rename(columns={\"date\": \"Date\", \"region\": \"Region\"})\n",
    "\n",
    "            out.to_csv(out_paths, mode= \"w\" if first_write else \"a\", index=False, header=first_write)\n",
    "            first_write = False\n",
    "        print(\"Processing complete.\")\n"
   ],
   "outputs": [],
   "execution_count": 34
  },
  {
   "metadata": {},
   "cell_type": "code",
   "source": "data_processing(input_pattern=\"data/*.csv\", chunksize=10000, out_paths=\"pink_morsels_sales_data.csv\")",
   "id": "39222bf049501535",
   "outputs": [],
   "execution_count": null
  },
  {
   "metadata": {},
   "cell_type": "code",
   "source": "display_csv(\"pink_morsels_sales_data.csv\")",
   "id": "e2fb39695428db76",
   "outputs": [],
   "execution_count": null
  }
 ],
 "metadata": {
  "kernelspec": {
   "display_name": "Python 3",
   "language": "python",
   "name": "python3"
  },
  "language_info": {
   "codemirror_mode": {
    "name": "ipython",
    "version": 2
   },
   "file_extension": ".py",
   "mimetype": "text/x-python",
   "name": "python",
   "nbconvert_exporter": "python",
   "pygments_lexer": "ipython2",
   "version": "2.7.6"
  }
 },
 "nbformat": 4,
 "nbformat_minor": 5
}
